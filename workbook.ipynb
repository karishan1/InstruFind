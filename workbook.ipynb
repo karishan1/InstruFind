{
 "cells": [
  {
   "cell_type": "markdown",
   "id": "be50cea2",
   "metadata": {},
   "source": [
    "DOCKER AWS TEST"
   ]
  },
  {
   "cell_type": "code",
   "execution_count": 12,
   "id": "fd31c91c-8566-4556-8d28-edc3071bb690",
   "metadata": {},
   "outputs": [
    {
     "name": "stdout",
     "output_type": "stream",
     "text": [
      "{'top_3_predictions': [{'instrument': 'piano', 'average_probability': 0.5007}, {'instrument': 'drums', 'average_probability': 0.2035}, {'instrument': 'bass', 'average_probability': 0.2023}]}\n",
      "Time taken for AWS Docker request :  25.269384145736694\n"
     ]
    }
   ],
   "source": [
    "import requests\n",
    "import time\n",
    "\n",
    "start_time = time.time()\n",
    "\n",
    "url = \"http://3.8.187.187:8000/predict/\"\n",
    "\n",
    "files = {'file': open(\"audio _files/saxophone cover.mp3\", \"rb\")}\n",
    "response = requests.post(url, files=files)\n",
    "\n",
    "\n",
    "print(response.json()) \n",
    "end_time = time.time()\n",
    "execution_time = end_time - start_time\n",
    "\n",
    "print(\"Time taken for AWS Docker request : \", execution_time)"
   ]
  },
  {
   "cell_type": "code",
   "execution_count": 11,
   "id": "439d732c-286f-4b9e-9ddb-240f7b70a45c",
   "metadata": {},
   "outputs": [
    {
     "name": "stdout",
     "output_type": "stream",
     "text": [
      "{'top_3_predictions': [{'instrument': 'piano', 'average_probability': 0.5007}, {'instrument': 'drums', 'average_probability': 0.2035}, {'instrument': 'bass', 'average_probability': 0.2023}]}\n",
      "Time taken for Local request :  7.737871170043945\n"
     ]
    }
   ],
   "source": [
    "import requests\n",
    "import time\n",
    "\n",
    "start_time = time.time()\n",
    "\n",
    "url = \"http://127.0.0.1:8080/predict\"\n",
    "\n",
    "files = {'file': open(\"audio _files/saxophone cover.mp3\", \"rb\")}\n",
    "response = requests.post(url, files=files)\n",
    "\n",
    "\n",
    "print(response.json()) \n",
    "end_time = time.time()\n",
    "execution_time = end_time - start_time\n",
    "\n",
    "print(\"Time taken for Local request : \", execution_time)\n"
   ]
  },
  {
   "cell_type": "code",
   "execution_count": null,
   "id": "72bf7d58-d889-45fd-a3c8-f3878fc5c138",
   "metadata": {},
   "outputs": [],
   "source": []
  }
 ],
 "metadata": {
  "kernelspec": {
   "display_name": "Python 3 (ipykernel)",
   "language": "python",
   "name": "python3"
  },
  "language_info": {
   "codemirror_mode": {
    "name": "ipython",
    "version": 3
   },
   "file_extension": ".py",
   "mimetype": "text/x-python",
   "name": "python",
   "nbconvert_exporter": "python",
   "pygments_lexer": "ipython3",
   "version": "3.11.0"
  }
 },
 "nbformat": 4,
 "nbformat_minor": 5
}
