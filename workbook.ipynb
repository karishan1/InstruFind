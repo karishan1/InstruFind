{
 "cells": [
  {
   "cell_type": "markdown",
   "id": "be50cea2",
   "metadata": {},
   "source": [
    "DOCKER AWS TEST"
   ]
  },
  {
   "cell_type": "code",
   "execution_count": 3,
   "id": "fd31c91c-8566-4556-8d28-edc3071bb690",
   "metadata": {},
   "outputs": [
    {
     "name": "stdout",
     "output_type": "stream",
     "text": [
      "{'top_3_predictions': [{'instrument': 'harp', 'average_probability': 0.6554}, {'instrument': 'flute', 'average_probability': 0.2167}, {'instrument': 'piano', 'average_probability': 0.1499}, {'instrument': 'synthesizer', 'average_probability': 0.1227}]}\n",
      "Time taken for AWS Docker request :  1.5390539169311523\n"
     ]
    }
   ],
   "source": [
    "import requests\n",
    "import time\n",
    "\n",
    "start_time = time.time()\n",
    "\n",
    "url = \"http://127.0.0.1:8080/api/predict/\"\n",
    "\n",
    "files = {'file': open(\"audio _files/harp sound.mp3\", \"rb\")}\n",
    "response = requests.post(url, files=files)\n",
    "\n",
    "\n",
    "print(response.json()) \n",
    "end_time = time.time()\n",
    "execution_time = end_time - start_time\n",
    "\n",
    "print(\"Time taken for AWS Docker request : \", execution_time)"
   ]
  },
  {
   "cell_type": "code",
   "execution_count": 5,
   "id": "439d732c-286f-4b9e-9ddb-240f7b70a45c",
   "metadata": {},
   "outputs": [
    {
     "name": "stdout",
     "output_type": "stream",
     "text": [
      "{'predictions': [{'name': 'acousticguitar', 'average_probability': 0.076, 'max_probability': 0.469, 'active_timestamps': [[43.0, 47.0]]}, {'name': 'bass', 'average_probability': 0.164, 'max_probability': 0.738, 'active_timestamps': [[50.0, 68.0]]}, {'name': 'cello', 'average_probability': 0.127, 'max_probability': 0.571, 'active_timestamps': [[107.0, 113.0], [125.0, 140.0]]}, {'name': 'classicalguitar', 'average_probability': 0.087, 'max_probability': 0.746, 'active_timestamps': [[25.0, 47.0]]}, {'name': 'drums', 'average_probability': 0.199, 'max_probability': 0.749, 'active_timestamps': [[50.0, 71.0]]}, {'name': 'electricguitar', 'average_probability': 0.139, 'max_probability': 0.73, 'active_timestamps': [[50.0, 67.0]]}, {'name': 'flute', 'average_probability': 0.148, 'max_probability': 0.394, 'active_timestamps': [[72.0, 91.0], [95.0, 100.0]]}, {'name': 'guitar', 'average_probability': 0.141, 'max_probability': 0.422, 'active_timestamps': [[24.0, 30.0], [38.0, 48.0], [53.0, 64.0]]}, {'name': 'harp', 'average_probability': 0.071, 'max_probability': 0.479, 'active_timestamps': [[31.0, 34.0]]}, {'name': 'piano', 'average_probability': 0.275, 'max_probability': 0.98, 'active_timestamps': [[3.0, 22.0], [101.0, 104.0], [119.0, 122.0], [141.0, 143.0], [148.0, 160.0]]}, {'name': 'synthesizer', 'average_probability': 0.145, 'max_probability': 0.542, 'active_timestamps': [[72.0, 78.0], [144.0, 147.0]]}, {'name': 'violin', 'average_probability': 0.138, 'max_probability': 0.456, 'active_timestamps': [[107.0, 118.0], [125.0, 143.0]]}]}\n",
      "Time taken for Local request :  3.5939221382141113\n"
     ]
    }
   ],
   "source": [
    "import requests\n",
    "import time\n",
    "\n",
    "start_time = time.time()\n",
    "\n",
    "url = \"http://127.0.0.1:8080/api/detect-instruments/\"\n",
    "\n",
    "files = {'file': open(\"audio _files/Guess the musical instrument.mp3\", \"rb\")}\n",
    "response = requests.post(url, files=files)\n",
    "\n",
    "\n",
    "print(response.json()) \n",
    "end_time = time.time()\n",
    "execution_time = end_time - start_time\n",
    "\n",
    "print(\"Time taken for Local request : \", execution_time)\n"
   ]
  },
  {
   "cell_type": "code",
   "execution_count": null,
   "id": "72bf7d58-d889-45fd-a3c8-f3878fc5c138",
   "metadata": {},
   "outputs": [],
   "source": []
  }
 ],
 "metadata": {
  "kernelspec": {
   "display_name": "Python 3 (ipykernel)",
   "language": "python",
   "name": "python3"
  },
  "language_info": {
   "codemirror_mode": {
    "name": "ipython",
    "version": 3
   },
   "file_extension": ".py",
   "mimetype": "text/x-python",
   "name": "python",
   "nbconvert_exporter": "python",
   "pygments_lexer": "ipython3",
   "version": "3.11.0"
  }
 },
 "nbformat": 4,
 "nbformat_minor": 5
}
