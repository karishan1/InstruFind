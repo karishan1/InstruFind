{
 "cells": [
  {
   "cell_type": "markdown",
   "id": "be50cea2",
   "metadata": {},
   "source": [
    "DOCKER AWS TEST"
   ]
  },
  {
   "cell_type": "code",
   "execution_count": 3,
   "id": "fd31c91c-8566-4556-8d28-edc3071bb690",
   "metadata": {},
   "outputs": [
    {
     "name": "stdout",
     "output_type": "stream",
     "text": [
      "{'top_3_predictions': [{'instrument': 'harp', 'average_probability': 0.6554}, {'instrument': 'flute', 'average_probability': 0.2167}, {'instrument': 'piano', 'average_probability': 0.1499}, {'instrument': 'synthesizer', 'average_probability': 0.1227}]}\n",
      "Time taken for AWS Docker request :  1.5390539169311523\n"
     ]
    }
   ],
   "source": [
    "import requests\n",
    "import time\n",
    "\n",
    "start_time = time.time()\n",
    "\n",
    "url = \"http://127.0.0.1:8080/api/predict/\"\n",
    "\n",
    "files = {'file': open(\"audio _files/harp sound.mp3\", \"rb\")}\n",
    "response = requests.post(url, files=files)\n",
    "\n",
    "\n",
    "print(response.json()) \n",
    "end_time = time.time()\n",
    "execution_time = end_time - start_time\n",
    "\n",
    "print(\"Time taken for AWS Docker request : \", execution_time)"
   ]
  },
  {
   "cell_type": "code",
   "execution_count": 19,
   "id": "439d732c-286f-4b9e-9ddb-240f7b70a45c",
   "metadata": {},
   "outputs": [
    {
     "name": "stdout",
     "output_type": "stream",
     "text": [
      "{'top_3_predictions': [{'instrument': 'piano', 'average_probability': 0.2747}, {'instrument': 'drums', 'average_probability': 0.1986}]}\n",
      "Time taken for Local request :  4.526878833770752\n"
     ]
    }
   ],
   "source": [
    "import requests\n",
    "import time\n",
    "\n",
    "start_time = time.time()\n",
    "\n",
    "url = \"http://127.0.0.1:8000/api/predict/{predictions}?predictions_num=2\"\n",
    "\n",
    "files = {'file': open(\"audio _files/Guess the musical instrument.mp3\", \"rb\")}\n",
    "response = requests.post(url, files=files)\n",
    "\n",
    "\n",
    "print(response.json()) \n",
    "end_time = time.time()\n",
    "execution_time = end_time - start_time\n",
    "\n",
    "print(\"Time taken for Local request : \", execution_time)\n"
   ]
  },
  {
   "cell_type": "code",
   "execution_count": null,
   "id": "72bf7d58-d889-45fd-a3c8-f3878fc5c138",
   "metadata": {},
   "outputs": [],
   "source": []
  },
  {
   "cell_type": "code",
   "execution_count": null,
   "id": "b08d4c61-49c0-472c-b0d7-3cb89d4d83d3",
   "metadata": {},
   "outputs": [],
   "source": []
  }
 ],
 "metadata": {
  "kernelspec": {
   "display_name": "Python 3 (ipykernel)",
   "language": "python",
   "name": "python3"
  },
  "language_info": {
   "codemirror_mode": {
    "name": "ipython",
    "version": 3
   },
   "file_extension": ".py",
   "mimetype": "text/x-python",
   "name": "python",
   "nbconvert_exporter": "python",
   "pygments_lexer": "ipython3",
   "version": "3.11.0"
  }
 },
 "nbformat": 4,
 "nbformat_minor": 5
}
